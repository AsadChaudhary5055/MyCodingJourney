{
  "nbformat": 4,
  "nbformat_minor": 0,
  "metadata": {
    "colab": {
      "provenance": []
    },
    "kernelspec": {
      "name": "python3",
      "display_name": "Python 3"
    },
    "language_info": {
      "name": "python"
    }
  },
  "cells": [
    {
      "cell_type": "code",
      "execution_count": 8,
      "metadata": {
        "colab": {
          "base_uri": "https://localhost:8080/",
          "height": 17
        },
        "id": "rMQKGQstQuXs",
        "outputId": "1d449eef-e5ea-4f26-c87c-c835627f9015"
      },
      "outputs": [
        {
          "output_type": "display_data",
          "data": {
            "text/plain": [
              "<IPython.core.display.Javascript object>"
            ],
            "application/javascript": [
              "\n",
              "    async function download(id, filename, size) {\n",
              "      if (!google.colab.kernel.accessAllowed) {\n",
              "        return;\n",
              "      }\n",
              "      const div = document.createElement('div');\n",
              "      const label = document.createElement('label');\n",
              "      label.textContent = `Downloading \"${filename}\": `;\n",
              "      div.appendChild(label);\n",
              "      const progress = document.createElement('progress');\n",
              "      progress.max = size;\n",
              "      div.appendChild(progress);\n",
              "      document.body.appendChild(div);\n",
              "\n",
              "      const buffers = [];\n",
              "      let downloaded = 0;\n",
              "\n",
              "      const channel = await google.colab.kernel.comms.open(id);\n",
              "      // Send a message to notify the kernel that we're ready.\n",
              "      channel.send({})\n",
              "\n",
              "      for await (const message of channel.messages) {\n",
              "        // Send a message to notify the kernel that we're ready.\n",
              "        channel.send({})\n",
              "        if (message.buffers) {\n",
              "          for (const buffer of message.buffers) {\n",
              "            buffers.push(buffer);\n",
              "            downloaded += buffer.byteLength;\n",
              "            progress.value = downloaded;\n",
              "          }\n",
              "        }\n",
              "      }\n",
              "      const blob = new Blob(buffers, {type: 'application/binary'});\n",
              "      const a = document.createElement('a');\n",
              "      a.href = window.URL.createObjectURL(blob);\n",
              "      a.download = filename;\n",
              "      div.appendChild(a);\n",
              "      a.click();\n",
              "      div.remove();\n",
              "    }\n",
              "  "
            ]
          },
          "metadata": {}
        },
        {
          "output_type": "display_data",
          "data": {
            "text/plain": [
              "<IPython.core.display.Javascript object>"
            ],
            "application/javascript": [
              "download(\"download_043192ac-cbab-4bd5-852f-6664557e7918\", \"portfolio.html\", 2768)"
            ]
          },
          "metadata": {}
        }
      ],
      "source": [
        "# Create HTML file\n",
        "html_code = \"\"\"\n",
        "<!DOCTYPE html>\n",
        "<html lang=\"en\">\n",
        "<head>\n",
        "    <meta charset=\"UTF-8\">\n",
        "    <meta name=\"viewport\" content=\"width=device-width, initial-scale=1.0\">\n",
        "    <title>Asad Chaudhary's Portfolio</title>\n",
        "    <style>\n",
        "        body {\n",
        "            font-family: Arial, sans-serif;\n",
        "            margin: 0;\n",
        "            padding: 0;\n",
        "            background-color: #f4f4f4;\n",
        "        }\n",
        "        header {\n",
        "            background-color: #333;\n",
        "            color: #fff;\n",
        "            padding: 1em;\n",
        "            text-align: center;\n",
        "        }\n",
        "        section {\n",
        "            max-width: 800px;\n",
        "            margin: 2em auto;\n",
        "            padding: 1em;\n",
        "            background-color: #fff;\n",
        "            box-shadow: 0 0 10px rgba(0,0,0,0.1);\n",
        "        }\n",
        "    </style>\n",
        "</head>\n",
        "<body>\n",
        "    <header>\n",
        "        <h1>Asad Chaudhary</h1>\n",
        "        <p>Web Developer</p>\n",
        "    </header>\n",
        "    <section>\n",
        "        <h2>About Me</h2>\n",
        "        <p>I'm profoundly dedicated to fostering a sustainable future within our textile trading organization. Sustainability isn't just a goal; it's a fundamental commitment that runs through the core of our operations. With a deep-rooted passion for sustainability and a background in environmental studies, I bring a unique perspective to our textile trading business.</p>\n",
        "        <p>My journey in environmental studies has provided me with a profound understanding of the challenges our planet faces and the solutions required to tackle them. I'm committed to translating this understanding into actionable steps within our textile trading operations.</p>\n",
        "        <p>One of my key strengths lies in sustainability strategy development. I have honed my skills in crafting strategies that not only benefit our business but also minimize our environmental footprint. Sustainability isn't just a checkbox; it's an integral part of our decision-making process.</p>\n",
        "        <p>I'm eager to continue my education and remain at the forefront of sustainable practices. My aim is to leverage my skills and knowledge to drive positive change, not only within our organization but also in the broader world. Sustainability isn't just a buzzword; it's a driving force behind our textile trading endeavors.</p>\n",
        "    </section>\n",
        "    <section>\n",
        "        <h2>Projects</h2>\n",
        "        <ul>\n",
        "            <li><a href=\"#\">Project 1</a></li>\n",
        "            <li><a href=\"#\">Project 2</a></li>\n",
        "            <li><a href=\"#\">Project 3</a></li>\n",
        "        </ul>\n",
        "    </section>\n",
        "    <section>\n",
        "        <h2>Contact</h2>\n",
        "        <p>Email: <a href=\"mailto:asadchaudhary5055@gmail.com\">asadchaudhary5055@gmail.com</a></p>\n",
        "        <p>LinkedIn: <a href=\"https://www.linkedin.com/in/asadandco/\">Asad Chaudhary's LinkedIn</a></p>\n",
        "        <p>GitHub: <a href=\"https://github.com/AsadChaudhary5055\">Asad Chaudhary's GitHub</a></p>\n",
        "    </section>\n",
        "</body>\n",
        "</html>\n",
        "\"\"\"\n",
        "\n",
        "# Save HTML code to a file\n",
        "with open('portfolio.html', 'w') as file:\n",
        "    file.write(html_code)\n",
        "\n",
        "# Download the file\n",
        "from google.colab import files\n",
        "files.download('portfolio.html')\n"
      ]
    }
  ]
}